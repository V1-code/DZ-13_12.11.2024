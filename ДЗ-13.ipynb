{
 "cells": [
  {
   "cell_type": "code",
   "execution_count": 1,
   "id": "4f5af9d1",
   "metadata": {},
   "outputs": [],
   "source": [
    "import bs4\n",
    "import requests\n",
    "import string\n",
    "\n",
    "import pandas as pd\n",
    "import matplotlib.pyplot as plt\n",
    "import seaborn as sns\n"
   ]
  },
  {
   "cell_type": "code",
   "execution_count": 2,
   "id": "49edb0d0",
   "metadata": {},
   "outputs": [],
   "source": [
    "url = \"http://az.lib.ru/r/radishew_a_n/text_0010.shtml\" # Путешествие из Петербурга в Москву - А.Н. Радищев \n",
    "\n",
    "response = requests.get(url)\n",
    "soup = bs4.BeautifulSoup(response.text, 'lxml')\n",
    "text = soup.body.get_text(' ', strip=True)"
   ]
  },
  {
   "cell_type": "markdown",
   "id": "10afafd9",
   "metadata": {},
   "source": [
    "### Определить 10 самых часто встречающихся слов"
   ]
  },
  {
   "cell_type": "code",
   "execution_count": 3,
   "id": "35fc5882",
   "metadata": {},
   "outputs": [],
   "source": [
    "# Преобразуем все символы в нижний регистр. Если не сделать, то 'Но' и 'но' будут разными словами. \n",
    "text = text.lower()\n",
    "\n",
    "# Разделим текст на отдельные слова \n",
    "words = text.split()"
   ]
  },
  {
   "cell_type": "code",
   "execution_count": 4,
   "id": "1b7cf4da",
   "metadata": {},
   "outputs": [],
   "source": [
    "# Символы, которые надо исключить из текста (из слов) \n",
    "\n",
    "symbols = \"~1234567890\\\"\\'!№;%:?*@#$^&*()_+=[]{}/.,abcdefghijklmnopqrstuvwxyz\" "
   ]
  },
  {
   "cell_type": "code",
   "execution_count": 5,
   "id": "ab1e5473",
   "metadata": {},
   "outputs": [],
   "source": [
    "# Создадим словарь и посчитаем количество каждого встречающегося слова \n",
    "word_counts = {} \n",
    "\n",
    "for word in words:\n",
    "\n",
    "    for i in range(len(symbols)): # Исключаем из слов лишние символы, цифры и англ буквы \n",
    "        word = word.replace(symbols[i], '') # Методом замены \n",
    "    \n",
    "    # Исключаем все короткие слова длиной в 1 символ (можно сделать >0, если нужно) \n",
    "    if (len(word) > 1) & (word != '--'): \n",
    "            \n",
    "        if word in word_counts:\n",
    "            word_counts[word] += 1\n",
    "        else:\n",
    "            word_counts[word] = 1\n"
   ]
  },
  {
   "cell_type": "code",
   "execution_count": 333,
   "id": "1ba659ed",
   "metadata": {},
   "outputs": [],
   "source": [
    "#word_counts"
   ]
  },
  {
   "cell_type": "code",
   "execution_count": 334,
   "id": "925f2ee9",
   "metadata": {},
   "outputs": [
    {
     "name": "stdout",
     "output_type": "stream",
     "text": [
      "[('и', 1786), ('в', 1715), ('не', 1128), ('--', 853), ('на', 803), ('что', 590), ('я', 524), ('но', 494), ('его', 418), ('с', 366)]\n"
     ]
    }
   ],
   "source": [
    "# Ещё один способ, рабочий, проверено \n",
    "\n",
    "#from collections import Counter # Counter — это подкласс словаря Python, созданный для подсчёта. \n",
    "#counts = Counter(words)\n",
    "\n",
    "#top = counts.most_common(10)\n",
    "#print(top)"
   ]
  },
  {
   "cell_type": "code",
   "execution_count": null,
   "id": "8dd9d68d",
   "metadata": {},
   "outputs": [],
   "source": []
  },
  {
   "cell_type": "code",
   "execution_count": 6,
   "id": "1e4befdd",
   "metadata": {},
   "outputs": [
    {
     "data": {
      "text/html": [
       "<div>\n",
       "<style scoped>\n",
       "    .dataframe tbody tr th:only-of-type {\n",
       "        vertical-align: middle;\n",
       "    }\n",
       "\n",
       "    .dataframe tbody tr th {\n",
       "        vertical-align: top;\n",
       "    }\n",
       "\n",
       "    .dataframe thead th {\n",
       "        text-align: right;\n",
       "    }\n",
       "</style>\n",
       "<table border=\"1\" class=\"dataframe\">\n",
       "  <thead>\n",
       "    <tr style=\"text-align: right;\">\n",
       "      <th></th>\n",
       "      <th>Word</th>\n",
       "      <th>Frequency</th>\n",
       "    </tr>\n",
       "  </thead>\n",
       "  <tbody>\n",
       "    <tr>\n",
       "      <th>0</th>\n",
       "      <td>радищев</td>\n",
       "      <td>27</td>\n",
       "    </tr>\n",
       "    <tr>\n",
       "      <th>1</th>\n",
       "      <td>александр</td>\n",
       "      <td>6</td>\n",
       "    </tr>\n",
       "    <tr>\n",
       "      <th>2</th>\n",
       "      <td>николаевич</td>\n",
       "      <td>4</td>\n",
       "    </tr>\n",
       "    <tr>\n",
       "      <th>3</th>\n",
       "      <td>путешествие</td>\n",
       "      <td>6</td>\n",
       "    </tr>\n",
       "    <tr>\n",
       "      <th>4</th>\n",
       "      <td>из</td>\n",
       "      <td>204</td>\n",
       "    </tr>\n",
       "  </tbody>\n",
       "</table>\n",
       "</div>"
      ],
      "text/plain": [
       "          Word  Frequency\n",
       "0      радищев         27\n",
       "1    александр          6\n",
       "2   николаевич          4\n",
       "3  путешествие          6\n",
       "4           из        204"
      ]
     },
     "execution_count": 6,
     "metadata": {},
     "output_type": "execute_result"
    }
   ],
   "source": [
    "# Создадим из словаря датафрейм \n",
    "\n",
    "df = pd.DataFrame(list(word_counts.items()), columns=['Word', 'Frequency'])\n",
    "\n",
    "df.head()"
   ]
  },
  {
   "cell_type": "code",
   "execution_count": 7,
   "id": "ca49e658",
   "metadata": {},
   "outputs": [
    {
     "data": {
      "text/html": [
       "<div>\n",
       "<style scoped>\n",
       "    .dataframe tbody tr th:only-of-type {\n",
       "        vertical-align: middle;\n",
       "    }\n",
       "\n",
       "    .dataframe tbody tr th {\n",
       "        vertical-align: top;\n",
       "    }\n",
       "\n",
       "    .dataframe thead th {\n",
       "        text-align: right;\n",
       "    }\n",
       "</style>\n",
       "<table border=\"1\" class=\"dataframe\">\n",
       "  <thead>\n",
       "    <tr style=\"text-align: right;\">\n",
       "      <th></th>\n",
       "      <th>Word</th>\n",
       "      <th>Frequency</th>\n",
       "    </tr>\n",
       "  </thead>\n",
       "  <tbody>\n",
       "    <tr>\n",
       "      <th>31</th>\n",
       "      <td>не</td>\n",
       "      <td>1133</td>\n",
       "    </tr>\n",
       "    <tr>\n",
       "      <th>143</th>\n",
       "      <td>на</td>\n",
       "      <td>805</td>\n",
       "    </tr>\n",
       "    <tr>\n",
       "      <th>93</th>\n",
       "      <td>что</td>\n",
       "      <td>608</td>\n",
       "    </tr>\n",
       "    <tr>\n",
       "      <th>88</th>\n",
       "      <td>но</td>\n",
       "      <td>532</td>\n",
       "    </tr>\n",
       "    <tr>\n",
       "      <th>145</th>\n",
       "      <td>его</td>\n",
       "      <td>472</td>\n",
       "    </tr>\n",
       "    <tr>\n",
       "      <th>140</th>\n",
       "      <td>он</td>\n",
       "      <td>333</td>\n",
       "    </tr>\n",
       "    <tr>\n",
       "      <th>396</th>\n",
       "      <td>то</td>\n",
       "      <td>302</td>\n",
       "    </tr>\n",
       "    <tr>\n",
       "      <th>17</th>\n",
       "      <td>от</td>\n",
       "      <td>283</td>\n",
       "    </tr>\n",
       "    <tr>\n",
       "      <th>227</th>\n",
       "      <td>если</td>\n",
       "      <td>265</td>\n",
       "    </tr>\n",
       "    <tr>\n",
       "      <th>301</th>\n",
       "      <td>или</td>\n",
       "      <td>246</td>\n",
       "    </tr>\n",
       "  </tbody>\n",
       "</table>\n",
       "</div>"
      ],
      "text/plain": [
       "     Word  Frequency\n",
       "31     не       1133\n",
       "143    на        805\n",
       "93    что        608\n",
       "88     но        532\n",
       "145   его        472\n",
       "140    он        333\n",
       "396    то        302\n",
       "17     от        283\n",
       "227  если        265\n",
       "301   или        246"
      ]
     },
     "execution_count": 7,
     "metadata": {},
     "output_type": "execute_result"
    }
   ],
   "source": [
    "# Отсортируем по убыванию \n",
    "\n",
    "df_sort = df.sort_values(by = 'Frequency', ascending = False)\n",
    "df_sort.head(10)"
   ]
  },
  {
   "cell_type": "code",
   "execution_count": 8,
   "id": "0e4a9747",
   "metadata": {},
   "outputs": [],
   "source": [
    "# Берём первые 10 строк \n",
    "\n",
    "df_top_10 = df_sort.head(10)"
   ]
  },
  {
   "cell_type": "code",
   "execution_count": 9,
   "id": "89f6f56e",
   "metadata": {},
   "outputs": [
    {
     "data": {
      "image/png": "[encoded data removed]",
      "text/plain": [
       "<Figure size 1000x500 with 1 Axes>"
      ]
     },
     "metadata": {},
     "output_type": "display_data"
    }
   ],
   "source": [
    "# Строим гистограмму \n",
    "\n",
    "plt.figure(figsize=(10, 5)) \n",
    "sns.barplot(data = df_top_10, x='Word', y='Frequency')\n",
    "plt.title('Гистограмма распределения слов')\n",
    "plt.xlabel('Слово')\n",
    "plt.ylabel('Количество повторений')\n",
    "plt.show()"
   ]
  },
  {
   "cell_type": "markdown",
   "id": "aad44a43",
   "metadata": {},
   "source": [
    "#### Готово"
   ]
  },
  {
   "cell_type": "code",
   "execution_count": null,
   "id": "5d11c1d7",
   "metadata": {},
   "outputs": [],
   "source": []
  }
 ],
 "metadata": {
  "kernelspec": {
   "display_name": "Python 3 (ipykernel)",
   "language": "python",
   "name": "python3"
  },
  "language_info": {
   "codemirror_mode": {
    "name": "ipython",
    "version": 3
   },
   "file_extension": ".py",
   "mimetype": "text/x-python",
   "name": "python",
   "nbconvert_exporter": "python",
   "pygments_lexer": "ipython3",
   "version": "3.11.2"
  }
 },
 "nbformat": 4,
 "nbformat_minor": 5
}
